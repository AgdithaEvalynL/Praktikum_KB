{
 "cells": [
  {
   "cell_type": "markdown",
   "id": "574ed0e1-9af9-4352-a30d-9f9b38a2896c",
   "metadata": {},
   "source": [
    "# AGDITHA EVALYN LOLONGAN \n",
    "## 2109106030 "
   ]
  },
  {
   "cell_type": "markdown",
   "id": "7d2ad154-c6d1-4732-b629-5461be0f31ff",
   "metadata": {},
   "source": [
    "### mengimport library"
   ]
  },
  {
   "cell_type": "code",
   "execution_count": 2,
   "id": "cbc8d4ac-6c42-4953-8d37-41dac833757c",
   "metadata": {},
   "outputs": [],
   "source": [
    "import tensorflow as tf"
   ]
  },
  {
   "cell_type": "markdown",
   "id": "a4253471-5b82-439d-9aff-25209b8c9293",
   "metadata": {},
   "source": [
    "### Buatlah sebuah tensor dengan shape(5,5) dengan nilai random yang disimpan dalam variable random_tensor"
   ]
  },
  {
   "cell_type": "code",
   "execution_count": 4,
   "id": "d61a51d0-a5ea-435d-9991-8997744ec5ba",
   "metadata": {},
   "outputs": [
    {
     "data": {
      "text/plain": [
       "<tf.Tensor: shape=(5, 5), dtype=int32, numpy=\n",
       "array([[70, 49, 27, 50, 18],\n",
       "       [70, 10, 59, 58, 68],\n",
       "       [44, 38, 96, 42, 50],\n",
       "       [81,  1, 55, 22, 21],\n",
       "       [94, 91, 45, 60, 64]])>"
      ]
     },
     "execution_count": 4,
     "metadata": {},
     "output_type": "execute_result"
    }
   ],
   "source": [
    "random_tensor = tf.random.uniform(shape = (5,5), minval=1, maxval=100, dtype=tf.int32)\n",
    "random_tensor"
   ]
  },
  {
   "cell_type": "markdown",
   "id": "1d968095-56f4-42e4-a9d0-582b52eda9bf",
   "metadata": {},
   "source": [
    "### Buatlah sebuah tensor dengan shape(5,5) dari sebuah list dengan nilai bilangan prima dalam variable prime_tensor "
   ]
  },
  {
   "cell_type": "markdown",
   "id": "61d6a910-0a88-4df0-a265-e806ef6e43d9",
   "metadata": {},
   "source": [
    "###  list berisi bil prima"
   ]
  },
  {
   "cell_type": "code",
   "execution_count": 5,
   "id": "34526cdc-95d2-416d-a51e-5cbc4537a5ab",
   "metadata": {},
   "outputs": [
    {
     "data": {
      "text/plain": [
       "<tf.Tensor: shape=(5, 5), dtype=int32, numpy=\n",
       "array([[  2,   3,   5,   7,  11],\n",
       "       [ 17,  19,  23,  29,  31],\n",
       "       [ 37,  41,  43,  47,  53],\n",
       "       [ 59,  61,  67,  71,  73],\n",
       "       [ 79,  83,  89,  97, 101]])>"
      ]
     },
     "execution_count": 5,
     "metadata": {},
     "output_type": "execute_result"
    }
   ],
   "source": [
    "list= [[2, 3, 5, 7, 11], [17, 19, 23, 29, 31], [37, 41, 43, 47, 53], [59, 61, 67, 71, 73], [79, 83, 89, 97, 101]]\n",
    "prime_tensor = tf.convert_to_tensor(list)\n",
    "prime_tensor"
   ]
  },
  {
   "cell_type": "markdown",
   "id": "9f929fc6-0c22-4c1b-a729-0b6b2fd80cb8",
   "metadata": {},
   "source": [
    "## Tampilkan dimensi dari kedua variable tersebut"
   ]
  },
  {
   "cell_type": "code",
   "execution_count": 10,
   "id": "3f18c7ef-a8a7-42cb-8630-85a323410e22",
   "metadata": {},
   "outputs": [
    {
     "name": "stdout",
     "output_type": "stream",
     "text": [
      "==Display dimensi variabel==\n"
     ]
    },
    {
     "data": {
      "text/plain": [
       "TensorShape([5, 5])"
      ]
     },
     "execution_count": 10,
     "metadata": {},
     "output_type": "execute_result"
    }
   ],
   "source": [
    "print(\"==Display dimensi variabel==\")\n",
    "random_tensor.shape"
   ]
  },
  {
   "cell_type": "code",
   "execution_count": 9,
   "id": "60138da0-7d27-4ee5-b889-14e0e9eee7a6",
   "metadata": {},
   "outputs": [
    {
     "name": "stdout",
     "output_type": "stream",
     "text": [
      "==Display dimensi variabel==\n"
     ]
    },
    {
     "data": {
      "text/plain": [
       "TensorShape([5, 5])"
      ]
     },
     "execution_count": 9,
     "metadata": {},
     "output_type": "execute_result"
    }
   ],
   "source": [
    "print(\"==Display dimensi variabel==\")\n",
    "prime_tensor.shape"
   ]
  },
  {
   "cell_type": "markdown",
   "id": "866f6138-bde2-4100-86aa-85c7a93e10c6",
   "metadata": {},
   "source": [
    "### Tampilkan hasil dari perhitungan aritmetika 2 variable tersebut (Gunakan minimal 5 operator)"
   ]
  },
  {
   "cell_type": "code",
   "execution_count": 11,
   "id": "91ebaee1-a28c-4812-982e-4224832db0e4",
   "metadata": {},
   "outputs": [
    {
     "name": "stdout",
     "output_type": "stream",
     "text": [
      "Penjumlahan\n"
     ]
    },
    {
     "data": {
      "text/plain": [
       "<tf.Tensor: shape=(5, 5), dtype=int32, numpy=\n",
       "array([[ 72,  52,  32,  57,  29],\n",
       "       [ 87,  29,  82,  87,  99],\n",
       "       [ 81,  79, 139,  89, 103],\n",
       "       [140,  62, 122,  93,  94],\n",
       "       [173, 174, 134, 157, 165]])>"
      ]
     },
     "execution_count": 11,
     "metadata": {},
     "output_type": "execute_result"
    }
   ],
   "source": [
    "print (\"======Penjumlahan=====\")\n",
    "tf.add(random_tensor, prime_tensor)"
   ]
  },
  {
   "cell_type": "code",
   "execution_count": 14,
   "id": "1426984b-553f-419b-a98e-b580c8a67640",
   "metadata": {},
   "outputs": [
    {
     "name": "stdout",
     "output_type": "stream",
     "text": [
      "======Pengurangan=====\n"
     ]
    },
    {
     "data": {
      "text/plain": [
       "<tf.Tensor: shape=(5, 5), dtype=int32, numpy=\n",
       "array([[ 68,  46,  22,  43,   7],\n",
       "       [ 53,  -9,  36,  29,  37],\n",
       "       [  7,  -3,  53,  -5,  -3],\n",
       "       [ 22, -60, -12, -49, -52],\n",
       "       [ 15,   8, -44, -37, -37]])>"
      ]
     },
     "execution_count": 14,
     "metadata": {},
     "output_type": "execute_result"
    }
   ],
   "source": [
    "print (\"======Pengurangan=====\")\n",
    "tf.subtract(random_tensor, prime_tensor)"
   ]
  },
  {
   "cell_type": "code",
   "execution_count": 15,
   "id": "8cf14f36-1823-4bee-a50d-9b271b25ef93",
   "metadata": {},
   "outputs": [
    {
     "name": "stdout",
     "output_type": "stream",
     "text": [
      "======Pembagian=====\n"
     ]
    },
    {
     "data": {
      "text/plain": [
       "<tf.Tensor: shape=(5, 5), dtype=float64, numpy=\n",
       "array([[3.50000000e+01, 1.63333333e+01, 5.40000000e+00, 7.14285714e+00,\n",
       "        1.63636364e+00],\n",
       "       [4.11764706e+00, 5.26315789e-01, 2.56521739e+00, 2.00000000e+00,\n",
       "        2.19354839e+00],\n",
       "       [1.18918919e+00, 9.26829268e-01, 2.23255814e+00, 8.93617021e-01,\n",
       "        9.43396226e-01],\n",
       "       [1.37288136e+00, 1.63934426e-02, 8.20895522e-01, 3.09859155e-01,\n",
       "        2.87671233e-01],\n",
       "       [1.18987342e+00, 1.09638554e+00, 5.05617978e-01, 6.18556701e-01,\n",
       "        6.33663366e-01]])>"
      ]
     },
     "execution_count": 15,
     "metadata": {},
     "output_type": "execute_result"
    }
   ],
   "source": [
    "print (\"======Pembagian=====\")\n",
    "tf.divide(random_tensor, prime_tensor)"
   ]
  },
  {
   "cell_type": "code",
   "execution_count": 16,
   "id": "ef37db93-5bf5-44e9-b50c-df0b91450687",
   "metadata": {},
   "outputs": [
    {
     "name": "stdout",
     "output_type": "stream",
     "text": [
      "======Perkalian=====\n"
     ]
    },
    {
     "data": {
      "text/plain": [
       "<tf.Tensor: shape=(5, 5), dtype=int32, numpy=\n",
       "array([[ 140,  147,  135,  350,  198],\n",
       "       [1190,  190, 1357, 1682, 2108],\n",
       "       [1628, 1558, 4128, 1974, 2650],\n",
       "       [4779,   61, 3685, 1562, 1533],\n",
       "       [7426, 7553, 4005, 5820, 6464]])>"
      ]
     },
     "execution_count": 16,
     "metadata": {},
     "output_type": "execute_result"
    }
   ],
   "source": [
    "print (\"======Perkalian=====\")\n",
    "tf.multiply(random_tensor, prime_tensor)"
   ]
  },
  {
   "cell_type": "code",
   "execution_count": 18,
   "id": "0174fa94-48f5-43a3-8966-2a4510918be8",
   "metadata": {},
   "outputs": [
    {
     "name": "stdout",
     "output_type": "stream",
     "text": [
      "======Perpangkatan====\n"
     ]
    },
    {
     "data": {
      "text/plain": [
       "<tf.Tensor: shape=(5, 5), dtype=int32, numpy=\n",
       "array([[       4900,      117649,    14348907,  -434047872, -1480538112],\n",
       "       [-1614413824, -1981284352, -1569890861, -1610612736,           0],\n",
       "       [          0,           0,           0,           0,           0],\n",
       "       [ 1674951025,           1,   670019559,           0,  1997373173],\n",
       "       [          0,  2092118499,  1697936653,           0,           0]])>"
      ]
     },
     "execution_count": 18,
     "metadata": {},
     "output_type": "execute_result"
    }
   ],
   "source": [
    "print(\"======Perpangkatan====\")\n",
    "tf.pow(random_tensor, prime_tensor)"
   ]
  },
  {
   "cell_type": "markdown",
   "id": "7df4effb-e818-49ed-b2f5-a3d47f767303",
   "metadata": {},
   "source": [
    "## Tampilkan nilai maksimal dan minimal dari variable random_tensor"
   ]
  },
  {
   "cell_type": "code",
   "execution_count": 24,
   "id": "8ac7b0fe-52d4-4066-bd8a-dbf6eeb97ed7",
   "metadata": {},
   "outputs": [
    {
     "name": "stdout",
     "output_type": "stream",
     "text": [
      "locate the maximum : [4 4 2 4 1]\n",
      "locate the minimal: [4 1 1 1 2]\n"
     ]
    }
   ],
   "source": [
    "maximal = tf.argmax(random_tensor, axis=0)\n",
    "minimal = tf.argmin(random_tensor, axis=1)\n",
    "print(\"locate the maximum :\",maximal.numpy())\n",
    "print(\"locate the minimal:\",minimal.numpy())"
   ]
  },
  {
   "cell_type": "markdown",
   "id": "10fbc5be-0349-47de-aad4-73bf7970cbbe",
   "metadata": {},
   "source": [
    "## Tampilkan hasil dari penggabungan variable random_tensor dengan prime_tensor (concatenation)"
   ]
  },
  {
   "cell_type": "code",
   "execution_count": 21,
   "id": "a4322e7e-8a45-4984-9948-adeaba2576aa",
   "metadata": {},
   "outputs": [
    {
     "data": {
      "text/plain": [
       "<tf.Tensor: shape=(5, 10), dtype=int32, numpy=\n",
       "array([[ 70,  49,  27,  50,  18,   2,   3,   5,   7,  11],\n",
       "       [ 70,  10,  59,  58,  68,  17,  19,  23,  29,  31],\n",
       "       [ 44,  38,  96,  42,  50,  37,  41,  43,  47,  53],\n",
       "       [ 81,   1,  55,  22,  21,  59,  61,  67,  71,  73],\n",
       "       [ 94,  91,  45,  60,  64,  79,  83,  89,  97, 101]])>"
      ]
     },
     "execution_count": 21,
     "metadata": {},
     "output_type": "execute_result"
    }
   ],
   "source": [
    "concat = tf.concat([random_tensor, prime_tensor], axis=1)\n",
    "concat"
   ]
  },
  {
   "cell_type": "markdown",
   "id": "39ec286b-a7dc-493b-8f48-9fffa8a09a9c",
   "metadata": {},
   "source": [
    "## Tampilkan hasil sorting dari kedua variable di atas. (descending)"
   ]
  },
  {
   "cell_type": "code",
   "execution_count": 22,
   "id": "d80c856d-1fda-411a-b2c1-eccd332444e6",
   "metadata": {},
   "outputs": [
    {
     "name": "stdout",
     "output_type": "stream",
     "text": [
      "Descending Variabel random_tensor\n"
     ]
    },
    {
     "data": {
      "text/plain": [
       "<tf.Tensor: shape=(5, 5), dtype=int32, numpy=\n",
       "array([[70, 50, 49, 27, 18],\n",
       "       [70, 68, 59, 58, 10],\n",
       "       [96, 50, 44, 42, 38],\n",
       "       [81, 55, 22, 21,  1],\n",
       "       [94, 91, 64, 60, 45]])>"
      ]
     },
     "execution_count": 22,
     "metadata": {},
     "output_type": "execute_result"
    }
   ],
   "source": [
    "print (\"Descending Variabel random_tensor\")\n",
    "tf.sort(random_tensor, direction=\"DESCENDING\")"
   ]
  },
  {
   "cell_type": "code",
   "execution_count": 23,
   "id": "6b756975-8fa3-43c5-8ba3-ef752016ca43",
   "metadata": {},
   "outputs": [
    {
     "name": "stdout",
     "output_type": "stream",
     "text": [
      "Descending Variabel prime_tensor\n"
     ]
    },
    {
     "data": {
      "text/plain": [
       "<tf.Tensor: shape=(5, 5), dtype=int32, numpy=\n",
       "array([[ 11,   7,   5,   3,   2],\n",
       "       [ 31,  29,  23,  19,  17],\n",
       "       [ 53,  47,  43,  41,  37],\n",
       "       [ 73,  71,  67,  61,  59],\n",
       "       [101,  97,  89,  83,  79]])>"
      ]
     },
     "execution_count": 23,
     "metadata": {},
     "output_type": "execute_result"
    }
   ],
   "source": [
    "print (\"Descending Variabel prime_tensor\")\n",
    "tf.sort(prime_tensor, direction=\"DESCENDING\")"
   ]
  },
  {
   "cell_type": "code",
   "execution_count": null,
   "id": "da94aebd-f394-4a07-9835-0887d3dd76c8",
   "metadata": {},
   "outputs": [],
   "source": []
  }
 ],
 "metadata": {
  "kernelspec": {
   "display_name": "Python 3 (ipykernel)",
   "language": "python",
   "name": "python3"
  },
  "language_info": {
   "codemirror_mode": {
    "name": "ipython",
    "version": 3
   },
   "file_extension": ".py",
   "mimetype": "text/x-python",
   "name": "python",
   "nbconvert_exporter": "python",
   "pygments_lexer": "ipython3",
   "version": "3.10.7"
  }
 },
 "nbformat": 4,
 "nbformat_minor": 5
}
