{
 "cells": [
  {
   "cell_type": "markdown",
   "id": "8a70d337-b3b7-488a-b0d7-bbdf3b83d637",
   "metadata": {},
   "source": [
    "# POSTEST 4 \n",
    "### NAMA : AGDITHA EVALYN LOLONGAN\n",
    "### NIM : 2109106030\n"
   ]
  },
  {
   "cell_type": "markdown",
   "id": "816f30c8-b24c-4b81-934c-4dd9f8394fa1",
   "metadata": {},
   "source": [
    "### Dataset memiliki nilai null "
   ]
  },
  {
   "cell_type": "markdown",
   "id": "ed517579-7516-4219-9347-33005ee2d244",
   "metadata": {},
   "source": [
    "### import  library"
   ]
  },
  {
   "cell_type": "code",
   "execution_count": 2,
   "id": "00bce917-065c-4787-83a3-af4979ec49a7",
   "metadata": {},
   "outputs": [],
   "source": [
    "import pandas as pd\n",
    "import numpy as np \n",
    "from sklearn.model_selection import train_test_split"
   ]
  },
  {
   "cell_type": "code",
   "execution_count": 3,
   "id": "4d8fc093-81b2-4d9c-8ac6-d22cf2e445d5",
   "metadata": {},
   "outputs": [],
   "source": [
    "dataset_split = pd.read_csv(\"tested.csv\")"
   ]
  },
  {
   "cell_type": "code",
   "execution_count": 4,
   "id": "63e3a27e-2cc8-4fb6-bcc9-ddbe89449922",
   "metadata": {},
   "outputs": [
    {
     "data": {
      "text/html": [
       "<div>\n",
       "<style scoped>\n",
       "    .dataframe tbody tr th:only-of-type {\n",
       "        vertical-align: middle;\n",
       "    }\n",
       "\n",
       "    .dataframe tbody tr th {\n",
       "        vertical-align: top;\n",
       "    }\n",
       "\n",
       "    .dataframe thead th {\n",
       "        text-align: right;\n",
       "    }\n",
       "</style>\n",
       "<table border=\"1\" class=\"dataframe\">\n",
       "  <thead>\n",
       "    <tr style=\"text-align: right;\">\n",
       "      <th></th>\n",
       "      <th>PassengerId</th>\n",
       "      <th>Survived</th>\n",
       "      <th>Pclass</th>\n",
       "      <th>Name</th>\n",
       "      <th>Sex</th>\n",
       "      <th>Age</th>\n",
       "      <th>SibSp</th>\n",
       "      <th>Parch</th>\n",
       "      <th>Ticket</th>\n",
       "      <th>Fare</th>\n",
       "      <th>Cabin</th>\n",
       "      <th>Embarked</th>\n",
       "    </tr>\n",
       "  </thead>\n",
       "  <tbody>\n",
       "    <tr>\n",
       "      <th>0</th>\n",
       "      <td>892</td>\n",
       "      <td>0</td>\n",
       "      <td>3</td>\n",
       "      <td>Kelly, Mr. James</td>\n",
       "      <td>male</td>\n",
       "      <td>34.0</td>\n",
       "      <td>0</td>\n",
       "      <td>0</td>\n",
       "      <td>330911</td>\n",
       "      <td>7.8292</td>\n",
       "      <td>NaN</td>\n",
       "      <td>Q</td>\n",
       "    </tr>\n",
       "    <tr>\n",
       "      <th>1</th>\n",
       "      <td>893</td>\n",
       "      <td>1</td>\n",
       "      <td>3</td>\n",
       "      <td>Wilkes, Mrs. James (Ellen Needs)</td>\n",
       "      <td>female</td>\n",
       "      <td>47.0</td>\n",
       "      <td>1</td>\n",
       "      <td>0</td>\n",
       "      <td>363272</td>\n",
       "      <td>7.0000</td>\n",
       "      <td>NaN</td>\n",
       "      <td>S</td>\n",
       "    </tr>\n",
       "    <tr>\n",
       "      <th>2</th>\n",
       "      <td>894</td>\n",
       "      <td>0</td>\n",
       "      <td>2</td>\n",
       "      <td>Myles, Mr. Thomas Francis</td>\n",
       "      <td>male</td>\n",
       "      <td>62.0</td>\n",
       "      <td>0</td>\n",
       "      <td>0</td>\n",
       "      <td>240276</td>\n",
       "      <td>9.6875</td>\n",
       "      <td>NaN</td>\n",
       "      <td>Q</td>\n",
       "    </tr>\n",
       "    <tr>\n",
       "      <th>3</th>\n",
       "      <td>895</td>\n",
       "      <td>0</td>\n",
       "      <td>3</td>\n",
       "      <td>Wirz, Mr. Albert</td>\n",
       "      <td>male</td>\n",
       "      <td>27.0</td>\n",
       "      <td>0</td>\n",
       "      <td>0</td>\n",
       "      <td>315154</td>\n",
       "      <td>8.6625</td>\n",
       "      <td>NaN</td>\n",
       "      <td>S</td>\n",
       "    </tr>\n",
       "    <tr>\n",
       "      <th>4</th>\n",
       "      <td>896</td>\n",
       "      <td>1</td>\n",
       "      <td>3</td>\n",
       "      <td>Hirvonen, Mrs. Alexander (Helga E Lindqvist)</td>\n",
       "      <td>female</td>\n",
       "      <td>22.0</td>\n",
       "      <td>1</td>\n",
       "      <td>1</td>\n",
       "      <td>3101298</td>\n",
       "      <td>12.2875</td>\n",
       "      <td>NaN</td>\n",
       "      <td>S</td>\n",
       "    </tr>\n",
       "    <tr>\n",
       "      <th>5</th>\n",
       "      <td>897</td>\n",
       "      <td>0</td>\n",
       "      <td>3</td>\n",
       "      <td>Svensson, Mr. Johan Cervin</td>\n",
       "      <td>male</td>\n",
       "      <td>14.0</td>\n",
       "      <td>0</td>\n",
       "      <td>0</td>\n",
       "      <td>7538</td>\n",
       "      <td>9.2250</td>\n",
       "      <td>NaN</td>\n",
       "      <td>S</td>\n",
       "    </tr>\n",
       "    <tr>\n",
       "      <th>6</th>\n",
       "      <td>898</td>\n",
       "      <td>1</td>\n",
       "      <td>3</td>\n",
       "      <td>Connolly, Miss. Kate</td>\n",
       "      <td>female</td>\n",
       "      <td>30.0</td>\n",
       "      <td>0</td>\n",
       "      <td>0</td>\n",
       "      <td>330972</td>\n",
       "      <td>7.6292</td>\n",
       "      <td>NaN</td>\n",
       "      <td>Q</td>\n",
       "    </tr>\n",
       "    <tr>\n",
       "      <th>7</th>\n",
       "      <td>899</td>\n",
       "      <td>0</td>\n",
       "      <td>2</td>\n",
       "      <td>Caldwell, Mr. Albert Francis</td>\n",
       "      <td>male</td>\n",
       "      <td>26.0</td>\n",
       "      <td>1</td>\n",
       "      <td>1</td>\n",
       "      <td>248738</td>\n",
       "      <td>29.0000</td>\n",
       "      <td>NaN</td>\n",
       "      <td>S</td>\n",
       "    </tr>\n",
       "    <tr>\n",
       "      <th>8</th>\n",
       "      <td>900</td>\n",
       "      <td>1</td>\n",
       "      <td>3</td>\n",
       "      <td>Abrahim, Mrs. Joseph (Sophie Halaut Easu)</td>\n",
       "      <td>female</td>\n",
       "      <td>18.0</td>\n",
       "      <td>0</td>\n",
       "      <td>0</td>\n",
       "      <td>2657</td>\n",
       "      <td>7.2292</td>\n",
       "      <td>NaN</td>\n",
       "      <td>C</td>\n",
       "    </tr>\n",
       "    <tr>\n",
       "      <th>9</th>\n",
       "      <td>901</td>\n",
       "      <td>0</td>\n",
       "      <td>3</td>\n",
       "      <td>Davies, Mr. John Samuel</td>\n",
       "      <td>male</td>\n",
       "      <td>21.0</td>\n",
       "      <td>2</td>\n",
       "      <td>0</td>\n",
       "      <td>A/4 48871</td>\n",
       "      <td>24.1500</td>\n",
       "      <td>NaN</td>\n",
       "      <td>S</td>\n",
       "    </tr>\n",
       "  </tbody>\n",
       "</table>\n",
       "</div>"
      ],
      "text/plain": [
       "   PassengerId  Survived  Pclass  \\\n",
       "0          892         0       3   \n",
       "1          893         1       3   \n",
       "2          894         0       2   \n",
       "3          895         0       3   \n",
       "4          896         1       3   \n",
       "5          897         0       3   \n",
       "6          898         1       3   \n",
       "7          899         0       2   \n",
       "8          900         1       3   \n",
       "9          901         0       3   \n",
       "\n",
       "                                           Name     Sex   Age  SibSp  Parch  \\\n",
       "0                              Kelly, Mr. James    male  34.0      0      0   \n",
       "1              Wilkes, Mrs. James (Ellen Needs)  female  47.0      1      0   \n",
       "2                     Myles, Mr. Thomas Francis    male  62.0      0      0   \n",
       "3                              Wirz, Mr. Albert    male  27.0      0      0   \n",
       "4  Hirvonen, Mrs. Alexander (Helga E Lindqvist)  female  22.0      1      1   \n",
       "5                    Svensson, Mr. Johan Cervin    male  14.0      0      0   \n",
       "6                          Connolly, Miss. Kate  female  30.0      0      0   \n",
       "7                  Caldwell, Mr. Albert Francis    male  26.0      1      1   \n",
       "8     Abrahim, Mrs. Joseph (Sophie Halaut Easu)  female  18.0      0      0   \n",
       "9                       Davies, Mr. John Samuel    male  21.0      2      0   \n",
       "\n",
       "      Ticket     Fare Cabin Embarked  \n",
       "0     330911   7.8292   NaN        Q  \n",
       "1     363272   7.0000   NaN        S  \n",
       "2     240276   9.6875   NaN        Q  \n",
       "3     315154   8.6625   NaN        S  \n",
       "4    3101298  12.2875   NaN        S  \n",
       "5       7538   9.2250   NaN        S  \n",
       "6     330972   7.6292   NaN        Q  \n",
       "7     248738  29.0000   NaN        S  \n",
       "8       2657   7.2292   NaN        C  \n",
       "9  A/4 48871  24.1500   NaN        S  "
      ]
     },
     "execution_count": 4,
     "metadata": {},
     "output_type": "execute_result"
    }
   ],
   "source": [
    "dataset_split.head(10)"
   ]
  },
  {
   "cell_type": "markdown",
   "id": "20d064d2-dd4e-4da6-ba6a-d95ade9396d1",
   "metadata": {},
   "source": [
    "### MENGECEK PADA ATTRIBUT APAKAH ADA NULL"
   ]
  },
  {
   "cell_type": "code",
   "execution_count": 5,
   "id": "9090d1a3-37f3-475e-9e7b-11b8e29badac",
   "metadata": {},
   "outputs": [
    {
     "data": {
      "text/plain": [
       "PassengerId      0\n",
       "Survived         0\n",
       "Pclass           0\n",
       "Name             0\n",
       "Sex              0\n",
       "Age             86\n",
       "SibSp            0\n",
       "Parch            0\n",
       "Ticket           0\n",
       "Fare             1\n",
       "Cabin          327\n",
       "Embarked         0\n",
       "dtype: int64"
      ]
     },
     "execution_count": 5,
     "metadata": {},
     "output_type": "execute_result"
    }
   ],
   "source": [
    "dataset_split.isna().sum()"
   ]
  },
  {
   "cell_type": "code",
   "execution_count": 6,
   "id": "1507806b-27c1-49eb-8e18-5a5f820e7230",
   "metadata": {},
   "outputs": [
    {
     "data": {
      "text/plain": [
       "(418, 12)"
      ]
     },
     "execution_count": 6,
     "metadata": {},
     "output_type": "execute_result"
    }
   ],
   "source": [
    "dataset_split.shape"
   ]
  },
  {
   "cell_type": "markdown",
   "id": "8ddda8e8-d52d-4e5d-9609-c3049caa23cd",
   "metadata": {},
   "source": [
    "## membagi training set dan testing set dengan ketentuan 70:30"
   ]
  },
  {
   "cell_type": "code",
   "execution_count": 7,
   "id": "3160c7b4-3ff1-4079-8315-209cbed7c961",
   "metadata": {},
   "outputs": [],
   "source": [
    "X = dataset_split.iloc[:,:-1]\n",
    "y = dataset_split.iloc[:,-1]\n",
    "\n",
    "X_train, X_test, y_train, y_test = train_test_split(X, y, test_size = 0.3)"
   ]
  },
  {
   "cell_type": "code",
   "execution_count": 8,
   "id": "24564ae4-5e5d-4473-9ece-897cc3781925",
   "metadata": {},
   "outputs": [
    {
     "name": "stdout",
     "output_type": "stream",
     "text": [
      "Dataset dibagi dengan proporsi 70:30\n",
      "\n",
      "Dimensi X_train:  (292, 11)\n",
      "Dimensi X_test:  (126, 11)\n",
      "Dimensi y_train:  (292,)\n",
      "Dimensi y_test:  (126,)\n"
     ]
    }
   ],
   "source": [
    "print(\"Dataset dibagi dengan proporsi 70:30\\n\")\n",
    "print(\"Dimensi X_train: \", X_train.shape)\n",
    "print(\"Dimensi X_test: \", X_test.shape)\n",
    "print(\"Dimensi y_train: \", y_train.shape)\n",
    "print(\"Dimensi y_test: \", y_test.shape)"
   ]
  },
  {
   "cell_type": "markdown",
   "id": "89cc3b66-884b-48a6-a842-7505055b74bc",
   "metadata": {},
   "source": [
    "# Mengatasi Nilai null "
   ]
  },
  {
   "cell_type": "markdown",
   "id": "b1a5bab4-8adc-4e09-8c64-df8cdf3474c3",
   "metadata": {},
   "source": [
    "### tested1 adalah dataset yang dirusak"
   ]
  },
  {
   "cell_type": "code",
   "execution_count": 9,
   "id": "5246b0ae-ad6f-482e-af14-cfcd717aeff2",
   "metadata": {},
   "outputs": [],
   "source": [
    "df=pd.read_csv(\"tested1.csv\")"
   ]
  },
  {
   "cell_type": "markdown",
   "id": "93f0e1ca-181e-4f66-b130-0cef8bd68849",
   "metadata": {},
   "source": [
    "## mengganti nilai null "
   ]
  },
  {
   "cell_type": "markdown",
   "id": "b428b130-59f7-49a6-b7e4-c0fad4fa4ebd",
   "metadata": {},
   "source": [
    "#### mean untuk data bertipe float"
   ]
  },
  {
   "cell_type": "code",
   "execution_count": 10,
   "id": "31d143aa-5fce-4065-b33a-587410eaeb55",
   "metadata": {},
   "outputs": [],
   "source": [
    "from sklearn.impute import SimpleImputer\n",
    "imputer = SimpleImputer(strategy=\"mean\") "
   ]
  },
  {
   "cell_type": "code",
   "execution_count": 11,
   "id": "4a655d59-62cc-43b0-aeaa-3b071006c09e",
   "metadata": {},
   "outputs": [],
   "source": [
    "df[\"Age\"]=imputer.fit_transform(df[[\"Age\"]])"
   ]
  },
  {
   "cell_type": "code",
   "execution_count": 12,
   "id": "441c0895-856d-463c-9f98-532a9fe3c504",
   "metadata": {},
   "outputs": [
    {
     "data": {
      "text/html": [
       "<div>\n",
       "<style scoped>\n",
       "    .dataframe tbody tr th:only-of-type {\n",
       "        vertical-align: middle;\n",
       "    }\n",
       "\n",
       "    .dataframe tbody tr th {\n",
       "        vertical-align: top;\n",
       "    }\n",
       "\n",
       "    .dataframe thead th {\n",
       "        text-align: right;\n",
       "    }\n",
       "</style>\n",
       "<table border=\"1\" class=\"dataframe\">\n",
       "  <thead>\n",
       "    <tr style=\"text-align: right;\">\n",
       "      <th></th>\n",
       "      <th>PassengerId</th>\n",
       "      <th>Survived</th>\n",
       "      <th>Pclass</th>\n",
       "      <th>Name</th>\n",
       "      <th>Sex</th>\n",
       "      <th>Age</th>\n",
       "      <th>SibSp</th>\n",
       "      <th>Parch</th>\n",
       "      <th>Ticket</th>\n",
       "      <th>Fare</th>\n",
       "      <th>Cabin</th>\n",
       "      <th>Embarked</th>\n",
       "    </tr>\n",
       "  </thead>\n",
       "  <tbody>\n",
       "    <tr>\n",
       "      <th>0</th>\n",
       "      <td>892</td>\n",
       "      <td>0</td>\n",
       "      <td>3</td>\n",
       "      <td>Kelly, Mr. James</td>\n",
       "      <td>male</td>\n",
       "      <td>34.0</td>\n",
       "      <td>0</td>\n",
       "      <td>0</td>\n",
       "      <td>330911</td>\n",
       "      <td>7.8292</td>\n",
       "      <td>NaN</td>\n",
       "      <td>Q</td>\n",
       "    </tr>\n",
       "    <tr>\n",
       "      <th>1</th>\n",
       "      <td>892</td>\n",
       "      <td>0</td>\n",
       "      <td>3</td>\n",
       "      <td>Kelly, Mr. James</td>\n",
       "      <td>male</td>\n",
       "      <td>34.0</td>\n",
       "      <td>0</td>\n",
       "      <td>0</td>\n",
       "      <td>330911</td>\n",
       "      <td>7.8292</td>\n",
       "      <td>NaN</td>\n",
       "      <td>Q</td>\n",
       "    </tr>\n",
       "    <tr>\n",
       "      <th>2</th>\n",
       "      <td>892</td>\n",
       "      <td>0</td>\n",
       "      <td>3</td>\n",
       "      <td>Kelly, Mr. James</td>\n",
       "      <td>male</td>\n",
       "      <td>34.0</td>\n",
       "      <td>0</td>\n",
       "      <td>0</td>\n",
       "      <td>330911</td>\n",
       "      <td>7.8292</td>\n",
       "      <td>NaN</td>\n",
       "      <td>Q</td>\n",
       "    </tr>\n",
       "    <tr>\n",
       "      <th>3</th>\n",
       "      <td>892</td>\n",
       "      <td>0</td>\n",
       "      <td>3</td>\n",
       "      <td>Kelly, Mr. James</td>\n",
       "      <td>male</td>\n",
       "      <td>34.0</td>\n",
       "      <td>0</td>\n",
       "      <td>0</td>\n",
       "      <td>330911</td>\n",
       "      <td>7.8292</td>\n",
       "      <td>NaN</td>\n",
       "      <td>Q</td>\n",
       "    </tr>\n",
       "    <tr>\n",
       "      <th>4</th>\n",
       "      <td>892</td>\n",
       "      <td>0</td>\n",
       "      <td>3</td>\n",
       "      <td>Kelly, Mr. James</td>\n",
       "      <td>male</td>\n",
       "      <td>34.0</td>\n",
       "      <td>0</td>\n",
       "      <td>0</td>\n",
       "      <td>330911</td>\n",
       "      <td>7.8292</td>\n",
       "      <td>NaN</td>\n",
       "      <td>Q</td>\n",
       "    </tr>\n",
       "    <tr>\n",
       "      <th>5</th>\n",
       "      <td>892</td>\n",
       "      <td>0</td>\n",
       "      <td>3</td>\n",
       "      <td>Kelly, Mr. James</td>\n",
       "      <td>male</td>\n",
       "      <td>34.0</td>\n",
       "      <td>0</td>\n",
       "      <td>0</td>\n",
       "      <td>330911</td>\n",
       "      <td>7.8292</td>\n",
       "      <td>NaN</td>\n",
       "      <td>Q</td>\n",
       "    </tr>\n",
       "    <tr>\n",
       "      <th>6</th>\n",
       "      <td>892</td>\n",
       "      <td>0</td>\n",
       "      <td>3</td>\n",
       "      <td>Kelly, Mr. James</td>\n",
       "      <td>male</td>\n",
       "      <td>34.0</td>\n",
       "      <td>0</td>\n",
       "      <td>0</td>\n",
       "      <td>330911</td>\n",
       "      <td>7.8292</td>\n",
       "      <td>NaN</td>\n",
       "      <td>Q</td>\n",
       "    </tr>\n",
       "    <tr>\n",
       "      <th>7</th>\n",
       "      <td>892</td>\n",
       "      <td>0</td>\n",
       "      <td>3</td>\n",
       "      <td>Kelly, Mr. James</td>\n",
       "      <td>male</td>\n",
       "      <td>34.0</td>\n",
       "      <td>0</td>\n",
       "      <td>0</td>\n",
       "      <td>330911</td>\n",
       "      <td>7.8292</td>\n",
       "      <td>NaN</td>\n",
       "      <td>Q</td>\n",
       "    </tr>\n",
       "    <tr>\n",
       "      <th>8</th>\n",
       "      <td>900</td>\n",
       "      <td>1</td>\n",
       "      <td>3</td>\n",
       "      <td>Abrahim, Mrs. Joseph (Sophie Halaut Easu)</td>\n",
       "      <td>female</td>\n",
       "      <td>18.0</td>\n",
       "      <td>0</td>\n",
       "      <td>0</td>\n",
       "      <td>2657</td>\n",
       "      <td>7.2292</td>\n",
       "      <td>NaN</td>\n",
       "      <td>C</td>\n",
       "    </tr>\n",
       "    <tr>\n",
       "      <th>9</th>\n",
       "      <td>901</td>\n",
       "      <td>0</td>\n",
       "      <td>3</td>\n",
       "      <td>Davies, Mr. John Samuel</td>\n",
       "      <td>male</td>\n",
       "      <td>21.0</td>\n",
       "      <td>2</td>\n",
       "      <td>0</td>\n",
       "      <td>A/4 48871</td>\n",
       "      <td>24.1500</td>\n",
       "      <td>NaN</td>\n",
       "      <td>S</td>\n",
       "    </tr>\n",
       "  </tbody>\n",
       "</table>\n",
       "</div>"
      ],
      "text/plain": [
       "   PassengerId  Survived  Pclass                                       Name  \\\n",
       "0          892         0       3                           Kelly, Mr. James   \n",
       "1          892         0       3                           Kelly, Mr. James   \n",
       "2          892         0       3                           Kelly, Mr. James   \n",
       "3          892         0       3                           Kelly, Mr. James   \n",
       "4          892         0       3                           Kelly, Mr. James   \n",
       "5          892         0       3                           Kelly, Mr. James   \n",
       "6          892         0       3                           Kelly, Mr. James   \n",
       "7          892         0       3                           Kelly, Mr. James   \n",
       "8          900         1       3  Abrahim, Mrs. Joseph (Sophie Halaut Easu)   \n",
       "9          901         0       3                    Davies, Mr. John Samuel   \n",
       "\n",
       "      Sex   Age  SibSp  Parch     Ticket     Fare Cabin Embarked  \n",
       "0    male  34.0      0      0     330911   7.8292   NaN        Q  \n",
       "1    male  34.0      0      0     330911   7.8292   NaN        Q  \n",
       "2    male  34.0      0      0     330911   7.8292   NaN        Q  \n",
       "3    male  34.0      0      0     330911   7.8292   NaN        Q  \n",
       "4    male  34.0      0      0     330911   7.8292   NaN        Q  \n",
       "5    male  34.0      0      0     330911   7.8292   NaN        Q  \n",
       "6    male  34.0      0      0     330911   7.8292   NaN        Q  \n",
       "7    male  34.0      0      0     330911   7.8292   NaN        Q  \n",
       "8  female  18.0      0      0       2657   7.2292   NaN        C  \n",
       "9    male  21.0      2      0  A/4 48871  24.1500   NaN        S  "
      ]
     },
     "execution_count": 12,
     "metadata": {},
     "output_type": "execute_result"
    }
   ],
   "source": [
    "df.head(10)"
   ]
  },
  {
   "cell_type": "markdown",
   "id": "ae3a7a8a-460e-42d5-aa8c-5764427114fc",
   "metadata": {},
   "source": [
    "## setelah dibersihkan "
   ]
  },
  {
   "cell_type": "code",
   "execution_count": 13,
   "id": "7e125fd6-a69d-4b95-a1e3-3ce763e8d19b",
   "metadata": {},
   "outputs": [
    {
     "data": {
      "text/plain": [
       "PassengerId      0\n",
       "Survived         0\n",
       "Pclass           0\n",
       "Name             0\n",
       "Sex              0\n",
       "Age              0\n",
       "SibSp            0\n",
       "Parch            0\n",
       "Ticket           0\n",
       "Fare             1\n",
       "Cabin          327\n",
       "Embarked         0\n",
       "dtype: int64"
      ]
     },
     "execution_count": 13,
     "metadata": {},
     "output_type": "execute_result"
    }
   ],
   "source": [
    "df.isna().sum()"
   ]
  },
  {
   "cell_type": "markdown",
   "id": "d9183e3f-6571-4856-96d8-e5485b9490a8",
   "metadata": {},
   "source": [
    "## membersihkan attribut yang lain yang memiliki null"
   ]
  },
  {
   "cell_type": "code",
   "execution_count": 14,
   "id": "36e7c33d-3608-4bdd-825c-eb6cb26eb015",
   "metadata": {},
   "outputs": [],
   "source": [
    "from sklearn.impute import SimpleImputer\n",
    "imputer = SimpleImputer(strategy=\"mean\") "
   ]
  },
  {
   "cell_type": "code",
   "execution_count": 15,
   "id": "a1304de0-06db-4af6-8f3c-29bc0291bb3e",
   "metadata": {},
   "outputs": [],
   "source": [
    "df[\"Fare\"]=imputer.fit_transform(df[[\"Fare\"]])"
   ]
  },
  {
   "cell_type": "code",
   "execution_count": 16,
   "id": "232f11ab-860b-423a-8198-23f64baf7ac9",
   "metadata": {},
   "outputs": [],
   "source": [
    "from sklearn.impute import SimpleImputer\n",
    "imputer = SimpleImputer(strategy=\"most_frequent\")"
   ]
  },
  {
   "cell_type": "code",
   "execution_count": 17,
   "id": "9064395e-8215-44b5-8ee8-9ccc8ce0c579",
   "metadata": {},
   "outputs": [],
   "source": [
    "df[\"Cabin\"]=imputer.fit_transform(df[[\"Cabin\"]])"
   ]
  },
  {
   "cell_type": "markdown",
   "id": "c522d69d-f54a-4b76-b064-716ff5d3a9ad",
   "metadata": {},
   "source": [
    "## setelah dibersihkan"
   ]
  },
  {
   "cell_type": "code",
   "execution_count": 18,
   "id": "f01a1274-9d67-49fc-ac64-e3eb279efc56",
   "metadata": {},
   "outputs": [
    {
     "data": {
      "text/plain": [
       "PassengerId    0\n",
       "Survived       0\n",
       "Pclass         0\n",
       "Name           0\n",
       "Sex            0\n",
       "Age            0\n",
       "SibSp          0\n",
       "Parch          0\n",
       "Ticket         0\n",
       "Fare           0\n",
       "Cabin          0\n",
       "Embarked       0\n",
       "dtype: int64"
      ]
     },
     "execution_count": 18,
     "metadata": {},
     "output_type": "execute_result"
    }
   ],
   "source": [
    "df.isna().sum()"
   ]
  },
  {
   "cell_type": "markdown",
   "id": "202d789b-cff1-4530-af1a-ff4f65bbddc2",
   "metadata": {},
   "source": [
    "## MENGATASI NILAI DUPLICATE"
   ]
  },
  {
   "cell_type": "markdown",
   "id": "fb3c04e8-2195-4e20-a21b-b2bd5fd1dd59",
   "metadata": {},
   "source": [
    "### dataset diatas memiliki dataset yang sama (duplicate)"
   ]
  },
  {
   "cell_type": "code",
   "execution_count": 19,
   "id": "0e73afa1-093f-4604-9913-d55b0c35c027",
   "metadata": {},
   "outputs": [],
   "source": [
    "df=pd.read_csv(\"tested1.csv\")"
   ]
  },
  {
   "cell_type": "code",
   "execution_count": 20,
   "id": "5c26a321-d5d4-4723-a53a-b836beb4d5d9",
   "metadata": {},
   "outputs": [
    {
     "data": {
      "text/html": [
       "<div>\n",
       "<style scoped>\n",
       "    .dataframe tbody tr th:only-of-type {\n",
       "        vertical-align: middle;\n",
       "    }\n",
       "\n",
       "    .dataframe tbody tr th {\n",
       "        vertical-align: top;\n",
       "    }\n",
       "\n",
       "    .dataframe thead th {\n",
       "        text-align: right;\n",
       "    }\n",
       "</style>\n",
       "<table border=\"1\" class=\"dataframe\">\n",
       "  <thead>\n",
       "    <tr style=\"text-align: right;\">\n",
       "      <th></th>\n",
       "      <th>PassengerId</th>\n",
       "      <th>Survived</th>\n",
       "      <th>Pclass</th>\n",
       "      <th>Name</th>\n",
       "      <th>Sex</th>\n",
       "      <th>Age</th>\n",
       "      <th>SibSp</th>\n",
       "      <th>Parch</th>\n",
       "      <th>Ticket</th>\n",
       "      <th>Fare</th>\n",
       "      <th>Cabin</th>\n",
       "      <th>Embarked</th>\n",
       "    </tr>\n",
       "  </thead>\n",
       "  <tbody>\n",
       "    <tr>\n",
       "      <th>1</th>\n",
       "      <td>892</td>\n",
       "      <td>0</td>\n",
       "      <td>3</td>\n",
       "      <td>Kelly, Mr. James</td>\n",
       "      <td>male</td>\n",
       "      <td>34.0</td>\n",
       "      <td>0</td>\n",
       "      <td>0</td>\n",
       "      <td>330911</td>\n",
       "      <td>7.8292</td>\n",
       "      <td>NaN</td>\n",
       "      <td>Q</td>\n",
       "    </tr>\n",
       "    <tr>\n",
       "      <th>2</th>\n",
       "      <td>892</td>\n",
       "      <td>0</td>\n",
       "      <td>3</td>\n",
       "      <td>Kelly, Mr. James</td>\n",
       "      <td>male</td>\n",
       "      <td>34.0</td>\n",
       "      <td>0</td>\n",
       "      <td>0</td>\n",
       "      <td>330911</td>\n",
       "      <td>7.8292</td>\n",
       "      <td>NaN</td>\n",
       "      <td>Q</td>\n",
       "    </tr>\n",
       "    <tr>\n",
       "      <th>3</th>\n",
       "      <td>892</td>\n",
       "      <td>0</td>\n",
       "      <td>3</td>\n",
       "      <td>Kelly, Mr. James</td>\n",
       "      <td>male</td>\n",
       "      <td>34.0</td>\n",
       "      <td>0</td>\n",
       "      <td>0</td>\n",
       "      <td>330911</td>\n",
       "      <td>7.8292</td>\n",
       "      <td>NaN</td>\n",
       "      <td>Q</td>\n",
       "    </tr>\n",
       "    <tr>\n",
       "      <th>4</th>\n",
       "      <td>892</td>\n",
       "      <td>0</td>\n",
       "      <td>3</td>\n",
       "      <td>Kelly, Mr. James</td>\n",
       "      <td>male</td>\n",
       "      <td>34.0</td>\n",
       "      <td>0</td>\n",
       "      <td>0</td>\n",
       "      <td>330911</td>\n",
       "      <td>7.8292</td>\n",
       "      <td>NaN</td>\n",
       "      <td>Q</td>\n",
       "    </tr>\n",
       "    <tr>\n",
       "      <th>5</th>\n",
       "      <td>892</td>\n",
       "      <td>0</td>\n",
       "      <td>3</td>\n",
       "      <td>Kelly, Mr. James</td>\n",
       "      <td>male</td>\n",
       "      <td>34.0</td>\n",
       "      <td>0</td>\n",
       "      <td>0</td>\n",
       "      <td>330911</td>\n",
       "      <td>7.8292</td>\n",
       "      <td>NaN</td>\n",
       "      <td>Q</td>\n",
       "    </tr>\n",
       "    <tr>\n",
       "      <th>6</th>\n",
       "      <td>892</td>\n",
       "      <td>0</td>\n",
       "      <td>3</td>\n",
       "      <td>Kelly, Mr. James</td>\n",
       "      <td>male</td>\n",
       "      <td>34.0</td>\n",
       "      <td>0</td>\n",
       "      <td>0</td>\n",
       "      <td>330911</td>\n",
       "      <td>7.8292</td>\n",
       "      <td>NaN</td>\n",
       "      <td>Q</td>\n",
       "    </tr>\n",
       "    <tr>\n",
       "      <th>7</th>\n",
       "      <td>892</td>\n",
       "      <td>0</td>\n",
       "      <td>3</td>\n",
       "      <td>Kelly, Mr. James</td>\n",
       "      <td>male</td>\n",
       "      <td>34.0</td>\n",
       "      <td>0</td>\n",
       "      <td>0</td>\n",
       "      <td>330911</td>\n",
       "      <td>7.8292</td>\n",
       "      <td>NaN</td>\n",
       "      <td>Q</td>\n",
       "    </tr>\n",
       "  </tbody>\n",
       "</table>\n",
       "</div>"
      ],
      "text/plain": [
       "   PassengerId  Survived  Pclass              Name   Sex   Age  SibSp  Parch  \\\n",
       "1          892         0       3  Kelly, Mr. James  male  34.0      0      0   \n",
       "2          892         0       3  Kelly, Mr. James  male  34.0      0      0   \n",
       "3          892         0       3  Kelly, Mr. James  male  34.0      0      0   \n",
       "4          892         0       3  Kelly, Mr. James  male  34.0      0      0   \n",
       "5          892         0       3  Kelly, Mr. James  male  34.0      0      0   \n",
       "6          892         0       3  Kelly, Mr. James  male  34.0      0      0   \n",
       "7          892         0       3  Kelly, Mr. James  male  34.0      0      0   \n",
       "\n",
       "   Ticket    Fare Cabin Embarked  \n",
       "1  330911  7.8292   NaN        Q  \n",
       "2  330911  7.8292   NaN        Q  \n",
       "3  330911  7.8292   NaN        Q  \n",
       "4  330911  7.8292   NaN        Q  \n",
       "5  330911  7.8292   NaN        Q  \n",
       "6  330911  7.8292   NaN        Q  \n",
       "7  330911  7.8292   NaN        Q  "
      ]
     },
     "execution_count": 20,
     "metadata": {},
     "output_type": "execute_result"
    }
   ],
   "source": [
    "df[df.duplicated()]"
   ]
  },
  {
   "cell_type": "code",
   "execution_count": 21,
   "id": "00832322-0dd8-4864-a9f6-08a22a213dc0",
   "metadata": {},
   "outputs": [],
   "source": [
    "df.drop_duplicates(inplace=True)"
   ]
  },
  {
   "cell_type": "code",
   "execution_count": 22,
   "id": "cc236088-53fa-457f-86ed-711eac6b2122",
   "metadata": {},
   "outputs": [
    {
     "data": {
      "text/html": [
       "<div>\n",
       "<style scoped>\n",
       "    .dataframe tbody tr th:only-of-type {\n",
       "        vertical-align: middle;\n",
       "    }\n",
       "\n",
       "    .dataframe tbody tr th {\n",
       "        vertical-align: top;\n",
       "    }\n",
       "\n",
       "    .dataframe thead th {\n",
       "        text-align: right;\n",
       "    }\n",
       "</style>\n",
       "<table border=\"1\" class=\"dataframe\">\n",
       "  <thead>\n",
       "    <tr style=\"text-align: right;\">\n",
       "      <th></th>\n",
       "      <th>PassengerId</th>\n",
       "      <th>Survived</th>\n",
       "      <th>Pclass</th>\n",
       "      <th>Name</th>\n",
       "      <th>Sex</th>\n",
       "      <th>Age</th>\n",
       "      <th>SibSp</th>\n",
       "      <th>Parch</th>\n",
       "      <th>Ticket</th>\n",
       "      <th>Fare</th>\n",
       "      <th>Cabin</th>\n",
       "      <th>Embarked</th>\n",
       "    </tr>\n",
       "  </thead>\n",
       "  <tbody>\n",
       "  </tbody>\n",
       "</table>\n",
       "</div>"
      ],
      "text/plain": [
       "Empty DataFrame\n",
       "Columns: [PassengerId, Survived, Pclass, Name, Sex, Age, SibSp, Parch, Ticket, Fare, Cabin, Embarked]\n",
       "Index: []"
      ]
     },
     "execution_count": 22,
     "metadata": {},
     "output_type": "execute_result"
    }
   ],
   "source": [
    "df[df.duplicated()]"
   ]
  },
  {
   "cell_type": "markdown",
   "id": "b0e171fc-1c5b-4e6a-9eb6-92cabcc5f3dd",
   "metadata": {},
   "source": [
    "## Melakukan Normalisasi pada data"
   ]
  },
  {
   "cell_type": "code",
   "execution_count": 23,
   "id": "760c5478-6a41-4d71-a9a7-4c993b0743cd",
   "metadata": {
    "tags": []
   },
   "outputs": [],
   "source": [
    "from sklearn.preprocessing import MinMaxScaler"
   ]
  },
  {
   "cell_type": "code",
   "execution_count": 24,
   "id": "6dc91b1e-801e-457d-a87a-226fa952dfc9",
   "metadata": {},
   "outputs": [],
   "source": [
    "min_max_scaler = MinMaxScaler()"
   ]
  },
  {
   "cell_type": "code",
   "execution_count": 25,
   "id": "1ecc5fde-7d90-4a8a-818b-1d7524ac98cd",
   "metadata": {},
   "outputs": [],
   "source": [
    "x_scaled = min_max_scaler.fit_transform(\n",
    "    df[['Fare']]\n",
    ")"
   ]
  },
  {
   "cell_type": "code",
   "execution_count": 26,
   "id": "08d10f0f-9534-40e3-87c7-b66ac9cc6af3",
   "metadata": {},
   "outputs": [
    {
     "data": {
      "text/html": [
       "<div>\n",
       "<style scoped>\n",
       "    .dataframe tbody tr th:only-of-type {\n",
       "        vertical-align: middle;\n",
       "    }\n",
       "\n",
       "    .dataframe tbody tr th {\n",
       "        vertical-align: top;\n",
       "    }\n",
       "\n",
       "    .dataframe thead th {\n",
       "        text-align: right;\n",
       "    }\n",
       "</style>\n",
       "<table border=\"1\" class=\"dataframe\">\n",
       "  <thead>\n",
       "    <tr style=\"text-align: right;\">\n",
       "      <th></th>\n",
       "      <th>0</th>\n",
       "    </tr>\n",
       "  </thead>\n",
       "  <tbody>\n",
       "    <tr>\n",
       "      <th>0</th>\n",
       "      <td>0.015282</td>\n",
       "    </tr>\n",
       "    <tr>\n",
       "      <th>1</th>\n",
       "      <td>0.014110</td>\n",
       "    </tr>\n",
       "    <tr>\n",
       "      <th>2</th>\n",
       "      <td>0.047138</td>\n",
       "    </tr>\n",
       "    <tr>\n",
       "      <th>3</th>\n",
       "      <td>0.015412</td>\n",
       "    </tr>\n",
       "    <tr>\n",
       "      <th>4</th>\n",
       "      <td>0.050749</td>\n",
       "    </tr>\n",
       "  </tbody>\n",
       "</table>\n",
       "</div>"
      ],
      "text/plain": [
       "          0\n",
       "0  0.015282\n",
       "1  0.014110\n",
       "2  0.047138\n",
       "3  0.015412\n",
       "4  0.050749"
      ]
     },
     "execution_count": 26,
     "metadata": {},
     "output_type": "execute_result"
    }
   ],
   "source": [
    "data_normalization = pd.DataFrame(x_scaled)\n",
    "data_normalization.head()"
   ]
  },
  {
   "cell_type": "markdown",
   "id": "7d7ed2fb-ddf9-4dc8-b3ca-2f357626aaa7",
   "metadata": {},
   "source": [
    "## Melakukan Standarisasi pada  data"
   ]
  },
  {
   "cell_type": "code",
   "execution_count": 51,
   "id": "d0748fdb-7c2b-41f7-8908-3f3bce6fb690",
   "metadata": {},
   "outputs": [],
   "source": [
    "from sklearn.impute import SimpleImputer\n",
    "imputer = SimpleImputer(strategy=\"mean\") "
   ]
  },
  {
   "cell_type": "code",
   "execution_count": 52,
   "id": "262ee192-4b33-43ac-9e13-036042bb0c56",
   "metadata": {},
   "outputs": [],
   "source": [
    "df[\"Fare\"]=imputer.fit_transform(df[[\"Fare\"]])"
   ]
  },
  {
   "cell_type": "code",
   "execution_count": 53,
   "id": "dff45fea-856d-4f5f-a25b-1e915dedadb3",
   "metadata": {},
   "outputs": [],
   "source": [
    "imputer = SimpleImputer(strategy=\"most_frequent\")"
   ]
  },
  {
   "cell_type": "code",
   "execution_count": 54,
   "id": "12d6b10c-1d4f-498b-945e-655316e6cb81",
   "metadata": {},
   "outputs": [],
   "source": [
    "df[\"Cabin\"]=imputer.fit_transform(df[[\"Cabin\"]])"
   ]
  },
  {
   "cell_type": "code",
   "execution_count": 55,
   "id": "daf999bf-2402-4c75-8b99-7766c1322f00",
   "metadata": {},
   "outputs": [],
   "source": [
    "imputer = SimpleImputer(strategy=\"mean\")"
   ]
  },
  {
   "cell_type": "code",
   "execution_count": 56,
   "id": "5bee3abb-b6f9-4185-a0d8-0525735974f6",
   "metadata": {},
   "outputs": [],
   "source": [
    "df[\"Age\"]=imputer.fit_transform(df[[\"Age\"]])"
   ]
  },
  {
   "cell_type": "code",
   "execution_count": 67,
   "id": "e7b3c425-dcc3-40e6-8a09-d610728257f5",
   "metadata": {},
   "outputs": [
    {
     "data": {
      "text/plain": [
       "PassengerId    120.780146\n",
       "Survived         0.478953\n",
       "Pclass           0.842149\n",
       "Age             12.519052\n",
       "SibSp            0.895236\n",
       "Parch            0.979717\n",
       "Fare            55.797639\n",
       "dtype: float64"
      ]
     },
     "execution_count": 67,
     "metadata": {},
     "output_type": "execute_result"
    }
   ],
   "source": [
    "np.std(df)"
   ]
  },
  {
   "cell_type": "code",
   "execution_count": 66,
   "id": "728ddb39-10fd-4b0d-aee2-3c37703365bf",
   "metadata": {},
   "outputs": [],
   "source": [
    "from sklearn.preprocessing import StandardScaler\n",
    "ss = StandardScaler()"
   ]
  },
  {
   "cell_type": "code",
   "execution_count": 59,
   "id": "a53e60cb-5e3e-43ea-8757-39d75492917e",
   "metadata": {},
   "outputs": [],
   "source": [
    "x_scaled2 = ss.fit_transform(\n",
    "     df[['PassengerId', 'Survived', 'Pclass', 'Age','SibSp', 'Parch','Fare']]\n",
    ")"
   ]
  },
  {
   "cell_type": "code",
   "execution_count": 60,
   "id": "ea4a7322-6101-4558-9d09-006d888b68fa",
   "metadata": {},
   "outputs": [
    {
     "data": {
      "text/html": [
       "<div>\n",
       "<style scoped>\n",
       "    .dataframe tbody tr th:only-of-type {\n",
       "        vertical-align: middle;\n",
       "    }\n",
       "\n",
       "    .dataframe tbody tr th {\n",
       "        vertical-align: top;\n",
       "    }\n",
       "\n",
       "    .dataframe thead th {\n",
       "        text-align: right;\n",
       "    }\n",
       "</style>\n",
       "<table border=\"1\" class=\"dataframe\">\n",
       "  <thead>\n",
       "    <tr style=\"text-align: right;\">\n",
       "      <th></th>\n",
       "      <th>0</th>\n",
       "      <th>1</th>\n",
       "      <th>2</th>\n",
       "      <th>3</th>\n",
       "      <th>4</th>\n",
       "      <th>5</th>\n",
       "      <th>6</th>\n",
       "    </tr>\n",
       "  </thead>\n",
       "  <tbody>\n",
       "    <tr>\n",
       "      <th>0</th>\n",
       "      <td>-1.725722</td>\n",
       "      <td>-0.744247</td>\n",
       "      <td>0.866432</td>\n",
       "      <td>0.299784</td>\n",
       "      <td>-0.491704</td>\n",
       "      <td>-0.395583</td>\n",
       "      <td>-0.49696</td>\n",
       "    </tr>\n",
       "    <tr>\n",
       "      <th>1</th>\n",
       "      <td>-1.725722</td>\n",
       "      <td>-0.744247</td>\n",
       "      <td>0.866432</td>\n",
       "      <td>0.299784</td>\n",
       "      <td>-0.491704</td>\n",
       "      <td>-0.395583</td>\n",
       "      <td>-0.49696</td>\n",
       "    </tr>\n",
       "    <tr>\n",
       "      <th>2</th>\n",
       "      <td>-1.725722</td>\n",
       "      <td>-0.744247</td>\n",
       "      <td>0.866432</td>\n",
       "      <td>0.299784</td>\n",
       "      <td>-0.491704</td>\n",
       "      <td>-0.395583</td>\n",
       "      <td>-0.49696</td>\n",
       "    </tr>\n",
       "    <tr>\n",
       "      <th>3</th>\n",
       "      <td>-1.725722</td>\n",
       "      <td>-0.744247</td>\n",
       "      <td>0.866432</td>\n",
       "      <td>0.299784</td>\n",
       "      <td>-0.491704</td>\n",
       "      <td>-0.395583</td>\n",
       "      <td>-0.49696</td>\n",
       "    </tr>\n",
       "    <tr>\n",
       "      <th>4</th>\n",
       "      <td>-1.725722</td>\n",
       "      <td>-0.744247</td>\n",
       "      <td>0.866432</td>\n",
       "      <td>0.299784</td>\n",
       "      <td>-0.491704</td>\n",
       "      <td>-0.395583</td>\n",
       "      <td>-0.49696</td>\n",
       "    </tr>\n",
       "  </tbody>\n",
       "</table>\n",
       "</div>"
      ],
      "text/plain": [
       "          0         1         2         3         4         5        6\n",
       "0 -1.725722 -0.744247  0.866432  0.299784 -0.491704 -0.395583 -0.49696\n",
       "1 -1.725722 -0.744247  0.866432  0.299784 -0.491704 -0.395583 -0.49696\n",
       "2 -1.725722 -0.744247  0.866432  0.299784 -0.491704 -0.395583 -0.49696\n",
       "3 -1.725722 -0.744247  0.866432  0.299784 -0.491704 -0.395583 -0.49696\n",
       "4 -1.725722 -0.744247  0.866432  0.299784 -0.491704 -0.395583 -0.49696"
      ]
     },
     "execution_count": 60,
     "metadata": {},
     "output_type": "execute_result"
    }
   ],
   "source": [
    "data_standarization = pd.DataFrame(x_scaled2)\n",
    "data_standarization.head()"
   ]
  },
  {
   "cell_type": "code",
   "execution_count": 61,
   "id": "5ae9b7f9-af8a-4549-9a26-dd096b09efee",
   "metadata": {},
   "outputs": [
    {
     "data": {
      "text/plain": [
       "PassengerId    0\n",
       "Survived       0\n",
       "Pclass         0\n",
       "Name           0\n",
       "Sex            0\n",
       "Age            0\n",
       "SibSp          0\n",
       "Parch          0\n",
       "Ticket         0\n",
       "Fare           0\n",
       "Cabin          0\n",
       "Embarked       0\n",
       "dtype: int64"
      ]
     },
     "execution_count": 61,
     "metadata": {},
     "output_type": "execute_result"
    }
   ],
   "source": [
    "df.isna().sum()"
   ]
  },
  {
   "cell_type": "code",
   "execution_count": 62,
   "id": "56dec86c-3805-43bd-bf39-e7d3f9a10ab6",
   "metadata": {},
   "outputs": [
    {
     "data": {
      "text/plain": [
       "1.0"
      ]
     },
     "execution_count": 62,
     "metadata": {},
     "output_type": "execute_result"
    }
   ],
   "source": [
    "np.std(x_scaled2)"
   ]
  },
  {
   "cell_type": "code",
   "execution_count": 63,
   "id": "f75610dc-aa69-4c97-b6e9-f06f4ebc363a",
   "metadata": {},
   "outputs": [
    {
     "data": {
      "text/plain": [
       "1.171691285045278e-16"
      ]
     },
     "execution_count": 63,
     "metadata": {},
     "output_type": "execute_result"
    }
   ],
   "source": [
    "np.mean(x_scaled2)"
   ]
  },
  {
   "cell_type": "code",
   "execution_count": 64,
   "id": "d297711d-2def-4a3b-a973-897134cfce83",
   "metadata": {},
   "outputs": [
    {
     "name": "stdout",
     "output_type": "stream",
     "text": [
      "<class 'pandas.core.frame.DataFrame'>\n",
      "RangeIndex: 418 entries, 0 to 417\n",
      "Data columns (total 12 columns):\n",
      " #   Column       Non-Null Count  Dtype  \n",
      "---  ------       --------------  -----  \n",
      " 0   PassengerId  418 non-null    int64  \n",
      " 1   Survived     418 non-null    int64  \n",
      " 2   Pclass       418 non-null    int64  \n",
      " 3   Name         418 non-null    object \n",
      " 4   Sex          418 non-null    object \n",
      " 5   Age          332 non-null    float64\n",
      " 6   SibSp        418 non-null    int64  \n",
      " 7   Parch        418 non-null    int64  \n",
      " 8   Ticket       418 non-null    object \n",
      " 9   Fare         417 non-null    float64\n",
      " 10  Cabin        91 non-null     object \n",
      " 11  Embarked     418 non-null    object \n",
      "dtypes: float64(2), int64(5), object(5)\n",
      "memory usage: 39.3+ KB\n"
     ]
    }
   ],
   "source": [
    "dataset_split.info()"
   ]
  },
  {
   "cell_type": "markdown",
   "id": "24649b7e-0b0d-41ff-9a62-aa2734d9ab2d",
   "metadata": {},
   "source": [
    "## MENGUBAH SALAH SATU TYPE DATA "
   ]
  },
  {
   "cell_type": "markdown",
   "id": "b2c5a0f0-1a57-4a1f-a54b-319f878f196d",
   "metadata": {},
   "source": [
    "#### MERUBAH TYPE DATA AGE YANG BERTIPE FLOAT MENJADI OBJECT"
   ]
  },
  {
   "cell_type": "code",
   "execution_count": 69,
   "id": "a16ff0a6-1500-4415-80d2-4ad5eade654f",
   "metadata": {},
   "outputs": [
    {
     "name": "stdout",
     "output_type": "stream",
     "text": [
      "tipe data setelah di ubah\n"
     ]
    },
    {
     "data": {
      "text/plain": [
       "dtype('O')"
      ]
     },
     "execution_count": 69,
     "metadata": {},
     "output_type": "execute_result"
    }
   ],
   "source": [
    "dfubah = df[[\"Age\"]].astype(\"object\")\n",
    "print(\"tipe data setelah di ubah\") \n",
    "dfubah[\"Age\"].dtypes"
   ]
  },
  {
   "cell_type": "markdown",
   "id": "918f482e-cc88-48a1-b46c-a0c62ad3f31e",
   "metadata": {},
   "source": [
    "## one-hot encoding"
   ]
  },
  {
   "cell_type": "code",
   "execution_count": 70,
   "id": "0f44264c-fe2b-4d12-913a-cff516bb67d7",
   "metadata": {},
   "outputs": [],
   "source": [
    "df = pd.read_csv(\"tested1.csv\")"
   ]
  },
  {
   "cell_type": "code",
   "execution_count": 71,
   "id": "c1b2400e-1a60-475e-b275-5f9e38e45461",
   "metadata": {},
   "outputs": [],
   "source": [
    "from sklearn.preprocessing import OneHotEncoder"
   ]
  },
  {
   "cell_type": "code",
   "execution_count": 72,
   "id": "ae5edc4e-c646-4a6b-9ef2-f29eb447259a",
   "metadata": {},
   "outputs": [],
   "source": [
    "onehotencoder = OneHotEncoder(sparse=False)"
   ]
  },
  {
   "cell_type": "markdown",
   "id": "59cd513f-f430-4cf4-8671-07e1780d2aba",
   "metadata": {},
   "source": [
    "### SEX (category)"
   ]
  },
  {
   "cell_type": "code",
   "execution_count": 73,
   "id": "8f3905a5-c1b0-408d-bc9a-e740af206c21",
   "metadata": {},
   "outputs": [],
   "source": [
    "onehot = onehotencoder.fit_transform(df[['Sex']])"
   ]
  },
  {
   "cell_type": "code",
   "execution_count": 74,
   "id": "a0cdc938-e619-4209-a1a0-55a19db4bba8",
   "metadata": {},
   "outputs": [],
   "source": [
    "dfonehot= pd.DataFrame(onehot)"
   ]
  },
  {
   "cell_type": "code",
   "execution_count": 75,
   "id": "2d007a1f-5e4d-4dbf-be53-47aa0c068629",
   "metadata": {},
   "outputs": [
    {
     "data": {
      "text/html": [
       "<div>\n",
       "<style scoped>\n",
       "    .dataframe tbody tr th:only-of-type {\n",
       "        vertical-align: middle;\n",
       "    }\n",
       "\n",
       "    .dataframe tbody tr th {\n",
       "        vertical-align: top;\n",
       "    }\n",
       "\n",
       "    .dataframe thead th {\n",
       "        text-align: right;\n",
       "    }\n",
       "</style>\n",
       "<table border=\"1\" class=\"dataframe\">\n",
       "  <thead>\n",
       "    <tr style=\"text-align: right;\">\n",
       "      <th></th>\n",
       "      <th>0</th>\n",
       "      <th>1</th>\n",
       "    </tr>\n",
       "  </thead>\n",
       "  <tbody>\n",
       "    <tr>\n",
       "      <th>0</th>\n",
       "      <td>0.0</td>\n",
       "      <td>1.0</td>\n",
       "    </tr>\n",
       "    <tr>\n",
       "      <th>1</th>\n",
       "      <td>0.0</td>\n",
       "      <td>1.0</td>\n",
       "    </tr>\n",
       "    <tr>\n",
       "      <th>2</th>\n",
       "      <td>0.0</td>\n",
       "      <td>1.0</td>\n",
       "    </tr>\n",
       "    <tr>\n",
       "      <th>3</th>\n",
       "      <td>0.0</td>\n",
       "      <td>1.0</td>\n",
       "    </tr>\n",
       "    <tr>\n",
       "      <th>4</th>\n",
       "      <td>0.0</td>\n",
       "      <td>1.0</td>\n",
       "    </tr>\n",
       "    <tr>\n",
       "      <th>5</th>\n",
       "      <td>0.0</td>\n",
       "      <td>1.0</td>\n",
       "    </tr>\n",
       "    <tr>\n",
       "      <th>6</th>\n",
       "      <td>0.0</td>\n",
       "      <td>1.0</td>\n",
       "    </tr>\n",
       "    <tr>\n",
       "      <th>7</th>\n",
       "      <td>0.0</td>\n",
       "      <td>1.0</td>\n",
       "    </tr>\n",
       "    <tr>\n",
       "      <th>8</th>\n",
       "      <td>1.0</td>\n",
       "      <td>0.0</td>\n",
       "    </tr>\n",
       "    <tr>\n",
       "      <th>9</th>\n",
       "      <td>0.0</td>\n",
       "      <td>1.0</td>\n",
       "    </tr>\n",
       "  </tbody>\n",
       "</table>\n",
       "</div>"
      ],
      "text/plain": [
       "     0    1\n",
       "0  0.0  1.0\n",
       "1  0.0  1.0\n",
       "2  0.0  1.0\n",
       "3  0.0  1.0\n",
       "4  0.0  1.0\n",
       "5  0.0  1.0\n",
       "6  0.0  1.0\n",
       "7  0.0  1.0\n",
       "8  1.0  0.0\n",
       "9  0.0  1.0"
      ]
     },
     "execution_count": 75,
     "metadata": {},
     "output_type": "execute_result"
    }
   ],
   "source": [
    "dfonehot.head(10)"
   ]
  },
  {
   "cell_type": "code",
   "execution_count": null,
   "id": "9aa91da3-6d02-470a-9026-ec3b4c03a024",
   "metadata": {},
   "outputs": [],
   "source": []
  }
 ],
 "metadata": {
  "kernelspec": {
   "display_name": "Python 3 (ipykernel)",
   "language": "python",
   "name": "python3"
  },
  "language_info": {
   "codemirror_mode": {
    "name": "ipython",
    "version": 3
   },
   "file_extension": ".py",
   "mimetype": "text/x-python",
   "name": "python",
   "nbconvert_exporter": "python",
   "pygments_lexer": "ipython3",
   "version": "3.10.7"
  }
 },
 "nbformat": 4,
 "nbformat_minor": 5
}
